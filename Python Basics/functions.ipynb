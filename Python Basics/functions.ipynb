{
 "cells": [
  {
   "cell_type": "markdown",
   "metadata": {},
   "source": [
    "### Functions"
   ]
  },
  {
   "cell_type": "code",
   "execution_count": 1,
   "metadata": {},
   "outputs": [
    {
     "name": "stdout",
     "output_type": "stream",
     "text": [
      "hello world! \n",
      "hello world! \n",
      "hello world! \n"
     ]
    }
   ],
   "source": [
    "# that helps in the repitation of statment by easy method\n",
    "def hello_func():         # primitar andar jatay layken abhi tho kohi primitar(code) hn nahi\n",
    "    print('hello world! ')\n",
    "\n",
    "hello_func()         # this is useful for execution\n",
    "hello_func()\n",
    "hello_func()\n",
    "\n"
   ]
  },
  {
   "cell_type": "code",
   "execution_count": 1,
   "metadata": {},
   "outputs": [
    {
     "name": "stdout",
     "output_type": "stream",
     "text": [
      "HELLO WORLD!\n"
     ]
    }
   ],
   "source": [
    "def hello_func():         \n",
    "    return'hello world!'\n",
    "\n",
    "print(hello_func().upper())        \n"
   ]
  },
  {
   "cell_type": "code",
   "execution_count": 2,
   "metadata": {},
   "outputs": [
    {
     "name": "stdout",
     "output_type": "stream",
     "text": [
      "Hi Anas\n"
     ]
    }
   ],
   "source": [
    "def hello_func(greetings , name='Anas'):\n",
    "    return '{} {}'.format(greetings,name)\n",
    "\n",
    "print(hello_func('Hi'))"
   ]
  },
  {
   "cell_type": "code",
   "execution_count": null,
   "metadata": {},
   "outputs": [
    {
     "ename": "",
     "evalue": "",
     "output_type": "error",
     "traceback": [
      "\u001b[1;31mRunning cells with 'c:\\Users\\JPC\\AppData\\Local\\Programs\\Python\\Python311\\python.exe' requires the ipykernel package.\n",
      "\u001b[1;31mRun the following command to install 'ipykernel' into the Python environment. \n",
      "\u001b[1;31mCommand: 'c:/Users/JPC/AppData/Local/Programs/Python/Python311/python.exe -m pip install ipykernel -U --user --force-reinstall'"
     ]
    }
   ],
   "source": [
    "def students_info(*args,**kwargs):\n",
    "    print(args)                      # thats is the positional arguments\n",
    "    print(kwargs)                    # thats is the dictionary\n",
    "\n",
    "courses = ['math','science']\n",
    "info = {'name':'john','age':'22' }\n",
    "\n",
    "print(students_info(*courses,**info))     # use * and ** to unpack arguments and dictionary\n",
    "\n"
   ]
  }
 ],
 "metadata": {
  "kernelspec": {
   "display_name": "Python 3.10.7 64-bit",
   "language": "python",
   "name": "python3"
  },
  "language_info": {
   "codemirror_mode": {
    "name": "ipython",
    "version": 3
   },
   "file_extension": ".py",
   "mimetype": "text/x-python",
   "name": "python",
   "nbconvert_exporter": "python",
   "pygments_lexer": "ipython3",
   "version": "3.11.4"
  },
  "orig_nbformat": 4,
  "vscode": {
   "interpreter": {
    "hash": "df0af529d9e600351178d7a3d768311a84b996c246d79ee2ea922212ed6e25f3"
   }
  }
 },
 "nbformat": 4,
 "nbformat_minor": 2
}
