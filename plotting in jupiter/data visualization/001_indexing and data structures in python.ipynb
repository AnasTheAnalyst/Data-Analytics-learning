{
 "cells": [
  {
   "cell_type": "code",
   "execution_count": 1,
   "id": "8bc0ffd1",
   "metadata": {},
   "outputs": [],
   "source": [
    "# Expression \n",
    "## Expression are type o operation that computer performs.\n",
    "## 2+3*4  (2,3,4) are called operands and (+,*) are called operators."
   ]
  },
  {
   "cell_type": "markdown",
   "id": "89ef11c9",
   "metadata": {},
   "source": [
    "## indexing"
   ]
  },
  {
   "cell_type": "code",
   "execution_count": 2,
   "id": "7a7859fc",
   "metadata": {
    "scrolled": true
   },
   "outputs": [
    {
     "data": {
      "text/plain": [
       "'muhammad anas'"
      ]
     },
     "execution_count": 2,
     "metadata": {},
     "output_type": "execute_result"
    }
   ],
   "source": [
    "# use string\n",
    "a= \"muhammad anas\"\n",
    "a"
   ]
  },
  {
   "cell_type": "code",
   "execution_count": 3,
   "id": "7d5931d1",
   "metadata": {},
   "outputs": [
    {
     "data": {
      "text/plain": [
       "13"
      ]
     },
     "execution_count": 3,
     "metadata": {},
     "output_type": "execute_result"
    }
   ],
   "source": [
    "# length of indeces\n",
    "len(a)"
   ]
  },
  {
   "cell_type": "code",
   "execution_count": 4,
   "id": "725cc1b1",
   "metadata": {},
   "outputs": [
    {
     "data": {
      "text/plain": [
       "'muhammad anas'"
      ]
     },
     "execution_count": 4,
     "metadata": {},
     "output_type": "execute_result"
    }
   ],
   "source": [
    "a"
   ]
  },
  {
   "cell_type": "code",
   "execution_count": 5,
   "id": "8b20b3b3",
   "metadata": {},
   "outputs": [
    {
     "data": {
      "text/plain": [
       "'m'"
      ]
     },
     "execution_count": 5,
     "metadata": {},
     "output_type": "execute_result"
    }
   ],
   "source": [
    "a[0]"
   ]
  },
  {
   "cell_type": "code",
   "execution_count": 6,
   "id": "5261a751",
   "metadata": {},
   "outputs": [
    {
     "data": {
      "text/plain": [
       "'u'"
      ]
     },
     "execution_count": 6,
     "metadata": {},
     "output_type": "execute_result"
    }
   ],
   "source": [
    "a[1]"
   ]
  },
  {
   "cell_type": "code",
   "execution_count": 7,
   "id": "b1c4ef23",
   "metadata": {},
   "outputs": [
    {
     "data": {
      "text/plain": [
       "'h'"
      ]
     },
     "execution_count": 7,
     "metadata": {},
     "output_type": "execute_result"
    }
   ],
   "source": [
    "a[2]"
   ]
  },
  {
   "cell_type": "code",
   "execution_count": 8,
   "id": "0bd0d5e6",
   "metadata": {},
   "outputs": [
    {
     "data": {
      "text/plain": [
       "'s'"
      ]
     },
     "execution_count": 8,
     "metadata": {},
     "output_type": "execute_result"
    }
   ],
   "source": [
    "a[12]"
   ]
  },
  {
   "cell_type": "code",
   "execution_count": 9,
   "id": "937a99bf",
   "metadata": {
    "scrolled": true
   },
   "outputs": [
    {
     "data": {
      "text/plain": [
       "'muhammad'"
      ]
     },
     "execution_count": 9,
     "metadata": {},
     "output_type": "execute_result"
    }
   ],
   "source": [
    "a[0:8]"
   ]
  },
  {
   "cell_type": "code",
   "execution_count": 10,
   "id": "2b89852b",
   "metadata": {},
   "outputs": [
    {
     "data": {
      "text/plain": [
       "'muhammad'"
      ]
     },
     "execution_count": 10,
     "metadata": {},
     "output_type": "execute_result"
    }
   ],
   "source": [
    "# last index is exclusive \n",
    "a[0:8]"
   ]
  },
  {
   "cell_type": "code",
   "execution_count": 11,
   "id": "557c42a3",
   "metadata": {},
   "outputs": [
    {
     "data": {
      "text/plain": [
       "'muhammad anas'"
      ]
     },
     "execution_count": 11,
     "metadata": {},
     "output_type": "execute_result"
    }
   ],
   "source": [
    "a[0:13]"
   ]
  },
  {
   "cell_type": "code",
   "execution_count": 12,
   "id": "175156e3",
   "metadata": {},
   "outputs": [
    {
     "data": {
      "text/plain": [
       "'a'"
      ]
     },
     "execution_count": 12,
     "metadata": {},
     "output_type": "execute_result"
    }
   ],
   "source": [
    "a[-4]"
   ]
  },
  {
   "cell_type": "code",
   "execution_count": 13,
   "id": "4a0c79fb",
   "metadata": {},
   "outputs": [
    {
     "data": {
      "text/plain": [
       "'anas'"
      ]
     },
     "execution_count": 13,
     "metadata": {},
     "output_type": "execute_result"
    }
   ],
   "source": [
    "a[-4:13]"
   ]
  },
  {
   "cell_type": "markdown",
   "id": "9b720a61",
   "metadata": {},
   "source": [
    "# string method"
   ]
  },
  {
   "cell_type": "code",
   "execution_count": 14,
   "id": "4c1e0e7e",
   "metadata": {},
   "outputs": [
    {
     "data": {
      "text/plain": [
       "'biryani'"
      ]
     },
     "execution_count": 14,
     "metadata": {},
     "output_type": "execute_result"
    }
   ],
   "source": [
    "food= \"biryani\"\n",
    "food"
   ]
  },
  {
   "cell_type": "code",
   "execution_count": 15,
   "id": "368bef83",
   "metadata": {},
   "outputs": [
    {
     "data": {
      "text/plain": [
       "'Biryani'"
      ]
     },
     "execution_count": 15,
     "metadata": {},
     "output_type": "execute_result"
    }
   ],
   "source": [
    "# For proper spelling\n",
    "food.capitalize()"
   ]
  },
  {
   "cell_type": "code",
   "execution_count": 16,
   "id": "7422313a",
   "metadata": {},
   "outputs": [
    {
     "data": {
      "text/plain": [
       "'biryani'"
      ]
     },
     "execution_count": 16,
     "metadata": {},
     "output_type": "execute_result"
    }
   ],
   "source": [
    "food.lower()"
   ]
  },
  {
   "cell_type": "code",
   "execution_count": 17,
   "id": "4beb9838",
   "metadata": {},
   "outputs": [
    {
     "data": {
      "text/plain": [
       "'shiryani'"
      ]
     },
     "execution_count": 17,
     "metadata": {},
     "output_type": "execute_result"
    }
   ],
   "source": [
    "food.replace(\"bir\",\"shir\")"
   ]
  },
  {
   "cell_type": "code",
   "execution_count": 18,
   "id": "32876e46",
   "metadata": {},
   "outputs": [
    {
     "data": {
      "text/plain": [
       "'my name, is muhammad, anas'"
      ]
     },
     "execution_count": 18,
     "metadata": {},
     "output_type": "execute_result"
    }
   ],
   "source": [
    "#count a string of alpabet\n",
    "name=\"my name, is muhammad, anas\"\n",
    "name"
   ]
  },
  {
   "cell_type": "code",
   "execution_count": 19,
   "id": "a2dbba45",
   "metadata": {},
   "outputs": [
    {
     "data": {
      "text/plain": [
       "5"
      ]
     },
     "execution_count": 19,
     "metadata": {},
     "output_type": "execute_result"
    }
   ],
   "source": [
    "name.count(\"a\")"
   ]
  },
  {
   "cell_type": "markdown",
   "id": "99105c19",
   "metadata": {},
   "source": [
    "# finding a index number"
   ]
  },
  {
   "cell_type": "code",
   "execution_count": 20,
   "id": "191d1f10",
   "metadata": {},
   "outputs": [
    {
     "data": {
      "text/plain": [
       "3"
      ]
     },
     "execution_count": 20,
     "metadata": {},
     "output_type": "execute_result"
    }
   ],
   "source": [
    "name.find(\"na\")"
   ]
  },
  {
   "cell_type": "code",
   "execution_count": 21,
   "id": "960696c6",
   "metadata": {},
   "outputs": [
    {
     "data": {
      "text/plain": [
       "['my name', ' is muhammad', ' anas']"
      ]
     },
     "execution_count": 21,
     "metadata": {},
     "output_type": "execute_result"
    }
   ],
   "source": [
    "# how to split a string\n",
    "name.split(\",\")"
   ]
  },
  {
   "cell_type": "markdown",
   "id": "5ec78069",
   "metadata": {},
   "source": [
    "# Data structures in python \n",
    "\n",
    "### 1-tuple\n",
    "### 2-list\n",
    "### 3-dictionaries\n",
    "### 4-set"
   ]
  },
  {
   "cell_type": "markdown",
   "id": "0bb0475f",
   "metadata": {},
   "source": [
    "# 1-tuple\n",
    "\n",
    "- ordered collection of elements\n",
    "- enclosed in () round traces/pranthesis\n",
    "- different kinds of elements is stored\n",
    "- once element are stored you cannot change them(unmutale)"
   ]
  },
  {
   "cell_type": "markdown",
   "id": "fce34ee9",
   "metadata": {},
   "source": [
    "element are integer,floating number,string,boolean operator"
   ]
  },
  {
   "cell_type": "code",
   "execution_count": 22,
   "id": "9e2b6e20",
   "metadata": {},
   "outputs": [
    {
     "data": {
      "text/plain": [
       "(1, 'python', True, 2.5)"
      ]
     },
     "execution_count": 22,
     "metadata": {},
     "output_type": "execute_result"
    }
   ],
   "source": [
    "tup1 = (1, \"python\" ,True ,2.5)\n",
    "tup1"
   ]
  },
  {
   "cell_type": "code",
   "execution_count": 23,
   "id": "a295f84b",
   "metadata": {},
   "outputs": [
    {
     "data": {
      "text/plain": [
       "tuple"
      ]
     },
     "execution_count": 23,
     "metadata": {},
     "output_type": "execute_result"
    }
   ],
   "source": [
    "# type of tuple\n",
    "\n",
    "type(tup1)"
   ]
  },
  {
   "cell_type": "code",
   "execution_count": 24,
   "id": "6b2f16d4",
   "metadata": {},
   "outputs": [
    {
     "data": {
      "text/plain": [
       "'python'"
      ]
     },
     "execution_count": 24,
     "metadata": {},
     "output_type": "execute_result"
    }
   ],
   "source": [
    "# indexing in tuple # use [] bractets for indexing\n",
    "tup1[1]"
   ]
  },
  {
   "cell_type": "code",
   "execution_count": 25,
   "id": "3825f8e0",
   "metadata": {},
   "outputs": [
    {
     "data": {
      "text/plain": [
       "1"
      ]
     },
     "execution_count": 25,
     "metadata": {},
     "output_type": "execute_result"
    }
   ],
   "source": [
    "tup1[0]"
   ]
  },
  {
   "cell_type": "code",
   "execution_count": 26,
   "id": "92087b35",
   "metadata": {},
   "outputs": [
    {
     "data": {
      "text/plain": [
       "(1, 'python', True, 2.5)"
      ]
     },
     "execution_count": 26,
     "metadata": {},
     "output_type": "execute_result"
    }
   ],
   "source": [
    "tup1[0:4]"
   ]
  },
  {
   "cell_type": "code",
   "execution_count": 27,
   "id": "123aa2b6",
   "metadata": {},
   "outputs": [
    {
     "data": {
      "text/plain": [
       "4"
      ]
     },
     "execution_count": 27,
     "metadata": {},
     "output_type": "execute_result"
    }
   ],
   "source": [
    "len(tup1)"
   ]
  },
  {
   "cell_type": "markdown",
   "id": "31a01f7c",
   "metadata": {},
   "source": [
    "#### tup 2  A D & M S"
   ]
  },
  {
   "cell_type": "code",
   "execution_count": 28,
   "id": "cd124500",
   "metadata": {},
   "outputs": [
    {
     "data": {
      "text/plain": [
       "(2, 'learning_with_baba_ammar', False, 3.5)"
      ]
     },
     "execution_count": 28,
     "metadata": {},
     "output_type": "execute_result"
    }
   ],
   "source": [
    "tup2= (2,\"learning_with_baba_ammar\" ,False ,3.5)\n",
    "tup2"
   ]
  },
  {
   "cell_type": "code",
   "execution_count": 29,
   "id": "15cc0ceb",
   "metadata": {},
   "outputs": [
    {
     "data": {
      "text/plain": [
       "(2, 'learning_with_baba_ammar', False, 3.5, 1, 'python', True, 2.5)"
      ]
     },
     "execution_count": 29,
     "metadata": {},
     "output_type": "execute_result"
    }
   ],
   "source": [
    "#cocacinate the tuples\n",
    "tup2 +tup1"
   ]
  },
  {
   "cell_type": "code",
   "execution_count": 30,
   "id": "a6a6c020",
   "metadata": {},
   "outputs": [
    {
     "data": {
      "text/plain": [
       "(1, 'python', True, 2.5, 1, 'python', True, 2.5, 1, 'python', True, 2.5)"
      ]
     },
     "execution_count": 30,
     "metadata": {},
     "output_type": "execute_result"
    }
   ],
   "source": [
    "tup1*2+tup1"
   ]
  },
  {
   "cell_type": "code",
   "execution_count": 31,
   "id": "d30572c8",
   "metadata": {},
   "outputs": [
    {
     "data": {
      "text/plain": [
       "(20, 30, 40, 50)"
      ]
     },
     "execution_count": 31,
     "metadata": {},
     "output_type": "execute_result"
    }
   ],
   "source": [
    "tup3=(20,30,40,50)\n",
    "tup3"
   ]
  },
  {
   "cell_type": "code",
   "execution_count": 32,
   "id": "af7afaa3",
   "metadata": {},
   "outputs": [
    {
     "data": {
      "text/plain": [
       "20"
      ]
     },
     "execution_count": 32,
     "metadata": {},
     "output_type": "execute_result"
    }
   ],
   "source": [
    "min(tup3)"
   ]
  },
  {
   "cell_type": "code",
   "execution_count": 33,
   "id": "c9d7485f",
   "metadata": {},
   "outputs": [
    {
     "data": {
      "text/plain": [
       "50"
      ]
     },
     "execution_count": 33,
     "metadata": {},
     "output_type": "execute_result"
    }
   ],
   "source": [
    "max(tup3)"
   ]
  },
  {
   "cell_type": "markdown",
   "id": "511d8e17",
   "metadata": {},
   "source": [
    "---"
   ]
  },
  {
   "cell_type": "markdown",
   "id": "7c2bf4e7",
   "metadata": {},
   "source": [
    "# 2-list"
   ]
  },
  {
   "cell_type": "markdown",
   "id": "a6c0bea1",
   "metadata": {},
   "source": [
    "- ordered collection of elements\n",
    "- enclosed in [] square brackets\n",
    "- mutable you can change the values"
   ]
  },
  {
   "cell_type": "code",
   "execution_count": 34,
   "id": "44cbfda8",
   "metadata": {},
   "outputs": [
    {
     "data": {
      "text/plain": [
       "[2, 'babaammar', False]"
      ]
     },
     "execution_count": 34,
     "metadata": {},
     "output_type": "execute_result"
    }
   ],
   "source": [
    "list1=[2,\"babaammar\" ,False]\n",
    "list1"
   ]
  },
  {
   "cell_type": "code",
   "execution_count": 35,
   "id": "0b00cab1",
   "metadata": {},
   "outputs": [
    {
     "data": {
      "text/plain": [
       "list"
      ]
     },
     "execution_count": 35,
     "metadata": {},
     "output_type": "execute_result"
    }
   ],
   "source": [
    "type(list1)"
   ]
  },
  {
   "cell_type": "code",
   "execution_count": 36,
   "id": "d0863f97",
   "metadata": {},
   "outputs": [
    {
     "data": {
      "text/plain": [
       "3"
      ]
     },
     "execution_count": 36,
     "metadata": {},
     "output_type": "execute_result"
    }
   ],
   "source": [
    "len(list1)"
   ]
  },
  {
   "cell_type": "code",
   "execution_count": 37,
   "id": "1040a6dd",
   "metadata": {},
   "outputs": [
    {
     "data": {
      "text/plain": [
       "False"
      ]
     },
     "execution_count": 37,
     "metadata": {},
     "output_type": "execute_result"
    }
   ],
   "source": [
    "list1[2]"
   ]
  },
  {
   "cell_type": "code",
   "execution_count": 38,
   "id": "14f4eff5",
   "metadata": {},
   "outputs": [
    {
     "data": {
      "text/plain": [
       "[3, 2, 'ammar', True, 3.5, 4.5]"
      ]
     },
     "execution_count": 38,
     "metadata": {},
     "output_type": "execute_result"
    }
   ],
   "source": [
    "list2=[3,2,\"ammar\",True,3.5,4.5]\n",
    "list2"
   ]
  },
  {
   "cell_type": "code",
   "execution_count": 39,
   "id": "3b26bced",
   "metadata": {},
   "outputs": [
    {
     "data": {
      "text/plain": [
       "[2, 'babaammar', False, 3, 2, 'ammar', True, 3.5, 4.5]"
      ]
     },
     "execution_count": 39,
     "metadata": {},
     "output_type": "execute_result"
    }
   ],
   "source": [
    "list1+list2"
   ]
  },
  {
   "cell_type": "code",
   "execution_count": 40,
   "id": "0096ba06",
   "metadata": {},
   "outputs": [
    {
     "data": {
      "text/plain": [
       "[2, 'babaammar', False, 2, 'babaammar', False]"
      ]
     },
     "execution_count": 40,
     "metadata": {},
     "output_type": "execute_result"
    }
   ],
   "source": [
    "list1*2"
   ]
  },
  {
   "cell_type": "code",
   "execution_count": 41,
   "id": "2156a3f6",
   "metadata": {},
   "outputs": [
    {
     "data": {
      "text/plain": [
       "[2, 'babaammar', False]"
      ]
     },
     "execution_count": 41,
     "metadata": {},
     "output_type": "execute_result"
    }
   ],
   "source": [
    "list1\n"
   ]
  },
  {
   "cell_type": "code",
   "execution_count": 42,
   "id": "8f48c7a5",
   "metadata": {},
   "outputs": [
    {
     "data": {
      "text/plain": [
       "[False, 'babaammar', 2]"
      ]
     },
     "execution_count": 42,
     "metadata": {},
     "output_type": "execute_result"
    }
   ],
   "source": [
    "list1.reverse()\n",
    "list1"
   ]
  },
  {
   "cell_type": "code",
   "execution_count": 43,
   "id": "ebf36002",
   "metadata": {},
   "outputs": [
    {
     "data": {
      "text/plain": [
       "[False, 'babaammar', 2, ['learning with ammar']]"
      ]
     },
     "execution_count": 43,
     "metadata": {},
     "output_type": "execute_result"
    }
   ],
   "source": [
    "list1.append([\"learning with ammar\"])                    # only 1 whole list is added in append function\n",
    "list1"
   ]
  },
  {
   "cell_type": "code",
   "execution_count": 44,
   "id": "efce92d2",
   "metadata": {},
   "outputs": [
    {
     "data": {
      "text/plain": [
       "[False, 'babaammar', 2, ['learning with ammar'], 'learning with ammar']"
      ]
     },
     "execution_count": 44,
     "metadata": {},
     "output_type": "execute_result"
    }
   ],
   "source": [
    "list1.extend([\"learning with ammar\"])                   # extend(you add list as a string m) beshak list bhi ho index baray ga\n",
    "list1"
   ]
  },
  {
   "cell_type": "code",
   "execution_count": 45,
   "id": "6e9a39fb",
   "metadata": {},
   "outputs": [
    {
     "data": {
      "text/plain": [
       "[False, 'babaammar', 2, 'learning with ammar']"
      ]
     },
     "execution_count": 45,
     "metadata": {},
     "output_type": "execute_result"
    }
   ],
   "source": [
    "list1.remove([\"learning with ammar\"])    \n",
    "list1   "
   ]
  },
  {
   "cell_type": "markdown",
   "id": "24528ce9",
   "metadata": {},
   "source": [
    "# different methods to make a list"
   ]
  },
  {
   "cell_type": "code",
   "execution_count": 46,
   "id": "885898ec",
   "metadata": {},
   "outputs": [
    {
     "data": {
      "text/plain": [
       "[1, 4, 7, 10, 13, 16, 19]"
      ]
     },
     "execution_count": 46,
     "metadata": {},
     "output_type": "execute_result"
    }
   ],
   "source": [
    "list4=list(range(1,20,3))\n",
    "list4"
   ]
  },
  {
   "cell_type": "code",
   "execution_count": 47,
   "id": "58869ff5",
   "metadata": {},
   "outputs": [],
   "source": [
    "list5=[1,2,[5,65,45]]"
   ]
  },
  {
   "cell_type": "code",
   "execution_count": 48,
   "id": "ed72301f",
   "metadata": {},
   "outputs": [
    {
     "data": {
      "text/plain": [
       "[1, 2, [5, 65, 45]]"
      ]
     },
     "execution_count": 48,
     "metadata": {},
     "output_type": "execute_result"
    }
   ],
   "source": [
    "list5"
   ]
  },
  {
   "cell_type": "code",
   "execution_count": 49,
   "id": "7efe21a7",
   "metadata": {},
   "outputs": [
    {
     "data": {
      "text/plain": [
       "2"
      ]
     },
     "execution_count": 49,
     "metadata": {},
     "output_type": "execute_result"
    }
   ],
   "source": [
    "list5[1]"
   ]
  },
  {
   "cell_type": "code",
   "execution_count": 50,
   "id": "dbb8a8e0",
   "metadata": {},
   "outputs": [
    {
     "data": {
      "text/plain": [
       "[5, 65, 45]"
      ]
     },
     "execution_count": 50,
     "metadata": {},
     "output_type": "execute_result"
    }
   ],
   "source": [
    "list5[2]"
   ]
  },
  {
   "cell_type": "code",
   "execution_count": 51,
   "id": "54ff6e45",
   "metadata": {},
   "outputs": [
    {
     "name": "stdout",
     "output_type": "stream",
     "text": [
      "5\n"
     ]
    }
   ],
   "source": [
    "print(list5[2][-3])"
   ]
  },
  {
   "cell_type": "code",
   "execution_count": 52,
   "id": "eb5eb698",
   "metadata": {},
   "outputs": [
    {
     "data": {
      "text/plain": [
       "[1, 3, 5, 6, 7, 9, 4, 8]"
      ]
     },
     "execution_count": 52,
     "metadata": {},
     "output_type": "execute_result"
    }
   ],
   "source": [
    "list6=[1,3,5,6,7,9,4,8]\n",
    "list6"
   ]
  },
  {
   "cell_type": "code",
   "execution_count": 53,
   "id": "dcd2fb2e",
   "metadata": {},
   "outputs": [
    {
     "data": {
      "text/plain": [
       "[1, 3, 4, 5, 6, 7, 8, 9]"
      ]
     },
     "execution_count": 53,
     "metadata": {},
     "output_type": "execute_result"
    }
   ],
   "source": [
    "list6.sort()\n",
    "list6"
   ]
  },
  {
   "cell_type": "markdown",
   "id": "708d6bd7",
   "metadata": {},
   "source": [
    "# Dictionaries"
   ]
  },
  {
   "cell_type": "markdown",
   "id": "158ee5bc",
   "metadata": {},
   "source": [
    "- an unordered collection of elements\n",
    "- key and values\n",
    "- curly braces or brackets {}\n",
    "- mutable/change the values\n"
   ]
  },
  {
   "cell_type": "code",
   "execution_count": 54,
   "id": "2174c324",
   "metadata": {},
   "outputs": [
    {
     "data": {
      "text/plain": [
       "{'pakora': 50, 'samosa': 100, 'raita': 30, 'salad': 20}"
      ]
     },
     "execution_count": 54,
     "metadata": {},
     "output_type": "execute_result"
    }
   ],
   "source": [
    "# food and their prices\n",
    "food1 = {\"pakora\":50,\"samosa\":100,\"raita\":30,\"salad\":20}\n",
    "food1"
   ]
  },
  {
   "cell_type": "code",
   "execution_count": 55,
   "id": "93730b11",
   "metadata": {},
   "outputs": [
    {
     "data": {
      "text/plain": [
       "dict"
      ]
     },
     "execution_count": 55,
     "metadata": {},
     "output_type": "execute_result"
    }
   ],
   "source": [
    "type(food1)"
   ]
  },
  {
   "cell_type": "code",
   "execution_count": 56,
   "id": "a2a9baea",
   "metadata": {},
   "outputs": [
    {
     "data": {
      "text/plain": [
       "dict_keys(['pakora', 'samosa', 'raita', 'salad'])"
      ]
     },
     "execution_count": 56,
     "metadata": {},
     "output_type": "execute_result"
    }
   ],
   "source": [
    "# extract data\n",
    "keys = food1.keys()\n",
    "keys"
   ]
  },
  {
   "cell_type": "code",
   "execution_count": 57,
   "id": "3cc70184",
   "metadata": {},
   "outputs": [
    {
     "data": {
      "text/plain": [
       "dict_keys(['pakora', 'samosa', 'raita', 'salad'])"
      ]
     },
     "execution_count": 57,
     "metadata": {},
     "output_type": "execute_result"
    }
   ],
   "source": [
    "food1.keys()"
   ]
  },
  {
   "cell_type": "code",
   "execution_count": 58,
   "id": "f9aab2ee",
   "metadata": {},
   "outputs": [
    {
     "data": {
      "text/plain": [
       "dict_values([50, 100, 30, 20])"
      ]
     },
     "execution_count": 58,
     "metadata": {},
     "output_type": "execute_result"
    }
   ],
   "source": [
    "values=food1.values()\n",
    "values"
   ]
  },
  {
   "cell_type": "markdown",
   "id": "04135402",
   "metadata": {},
   "source": [
    "### adding a new element"
   ]
  },
  {
   "cell_type": "code",
   "execution_count": 59,
   "id": "9a2e4160",
   "metadata": {},
   "outputs": [
    {
     "data": {
      "text/plain": [
       "{'pakora': 50, 'samosa': 100, 'raita': 30, 'salad': 20, 'tikki': 60}"
      ]
     },
     "execution_count": 59,
     "metadata": {},
     "output_type": "execute_result"
    }
   ],
   "source": [
    "food1[\"tikki\"]=60\n",
    "food1"
   ]
  },
  {
   "cell_type": "markdown",
   "id": "136a7d53",
   "metadata": {},
   "source": [
    "### update the values"
   ]
  },
  {
   "cell_type": "code",
   "execution_count": 60,
   "id": "948d0889",
   "metadata": {},
   "outputs": [
    {
     "data": {
      "text/plain": [
       "{'pakora': 50, 'samosa': 100, 'raita': 30, 'salad': 20, 'tikki': 70}"
      ]
     },
     "execution_count": 60,
     "metadata": {},
     "output_type": "execute_result"
    }
   ],
   "source": [
    "food1[\"tikki\"]=70\n",
    "food1"
   ]
  },
  {
   "cell_type": "code",
   "execution_count": 61,
   "id": "da6c0138",
   "metadata": {},
   "outputs": [
    {
     "data": {
      "text/plain": [
       "{'chocalate': 30, 'date': 100, 'almond': 100}"
      ]
     },
     "execution_count": 61,
     "metadata": {},
     "output_type": "execute_result"
    }
   ],
   "source": [
    "food2={\"chocalate\":30,\"date\":100,\"almond\":100}\n",
    "food2"
   ]
  },
  {
   "cell_type": "code",
   "execution_count": 62,
   "id": "ee0a9bb8",
   "metadata": {},
   "outputs": [
    {
     "data": {
      "text/plain": [
       "{'pakora': 50,\n",
       " 'samosa': 100,\n",
       " 'raita': 30,\n",
       " 'salad': 20,\n",
       " 'tikki': 70,\n",
       " 'chocalate': 30,\n",
       " 'date': 100,\n",
       " 'almond': 100}"
      ]
     },
     "execution_count": 62,
     "metadata": {},
     "output_type": "execute_result"
    }
   ],
   "source": [
    "# cocatinate\n",
    "food1.update(food2)\n",
    "food1"
   ]
  },
  {
   "cell_type": "markdown",
   "id": "45a21a8b",
   "metadata": {},
   "source": [
    "# 4 sets"
   ]
  },
  {
   "cell_type": "markdown",
   "id": "789ec430",
   "metadata": {},
   "source": [
    "- sets are type of collection\n",
    "- unordered and unindexed (unlike list and tuple)\n",
    "- curly braces are used\n",
    "- no duplicates are used (they have unique elements or one particular elements)"
   ]
  },
  {
   "cell_type": "code",
   "execution_count": 63,
   "id": "ade90728",
   "metadata": {},
   "outputs": [
    {
     "data": {
      "text/plain": [
       "{1, 2, 3.2, 4.4, 'ali', 'anas'}"
      ]
     },
     "execution_count": 63,
     "metadata": {},
     "output_type": "execute_result"
    }
   ],
   "source": [
    "s1 ={1,2,3.2,4.4,\"anas\",\"ali\"}\n",
    "s1"
   ]
  },
  {
   "cell_type": "code",
   "execution_count": 64,
   "id": "220d5404",
   "metadata": {},
   "outputs": [
    {
     "data": {
      "text/plain": [
       "set"
      ]
     },
     "execution_count": 64,
     "metadata": {},
     "output_type": "execute_result"
    }
   ],
   "source": [
    "type(s1)"
   ]
  },
  {
   "cell_type": "code",
   "execution_count": 65,
   "id": "99b21cfa",
   "metadata": {},
   "outputs": [
    {
     "data": {
      "text/plain": [
       "{1, 2, 3.2, 4.4, 'ali', 'anas', 'anas1'}"
      ]
     },
     "execution_count": 65,
     "metadata": {},
     "output_type": "execute_result"
    }
   ],
   "source": [
    "s1.add(\"anas1\")\n",
    "s1"
   ]
  },
  {
   "cell_type": "code",
   "execution_count": 66,
   "id": "b6c08b2f",
   "metadata": {},
   "outputs": [
    {
     "data": {
      "text/plain": [
       "{1, 2, 3.2, 4.4, 'ali', 'anas'}"
      ]
     },
     "execution_count": 66,
     "metadata": {},
     "output_type": "execute_result"
    }
   ],
   "source": [
    "s1.remove(\"anas1\")\n",
    "s1"
   ]
  },
  {
   "cell_type": "markdown",
   "id": "d2784ddc",
   "metadata": {},
   "source": [
    "- changing list to set"
   ]
  },
  {
   "cell_type": "code",
   "execution_count": 67,
   "id": "330a127a",
   "metadata": {},
   "outputs": [],
   "source": [
    "album_list = [\"rock\",\"rock\",1,2,3,3,4,4,4,5,5]"
   ]
  },
  {
   "cell_type": "code",
   "execution_count": 68,
   "id": "c0f52d6c",
   "metadata": {},
   "outputs": [
    {
     "data": {
      "text/plain": [
       "{1, 2, 3, 4, 5, 'rock'}"
      ]
     },
     "execution_count": 68,
     "metadata": {},
     "output_type": "execute_result"
    }
   ],
   "source": [
    "album_set = set(album_list)\n",
    "album_set"
   ]
  },
  {
   "cell_type": "markdown",
   "id": "9a2c1e20",
   "metadata": {},
   "source": [
    "- To check element in the set"
   ]
  },
  {
   "cell_type": "code",
   "execution_count": 69,
   "id": "3c2f8047",
   "metadata": {},
   "outputs": [
    {
     "data": {
      "text/plain": [
       "True"
      ]
     },
     "execution_count": 69,
     "metadata": {},
     "output_type": "execute_result"
    }
   ],
   "source": [
    "1 in album_set"
   ]
  },
  {
   "cell_type": "code",
   "execution_count": 70,
   "id": "deef668a",
   "metadata": {},
   "outputs": [
    {
     "data": {
      "text/plain": [
       "True"
      ]
     },
     "execution_count": 70,
     "metadata": {},
     "output_type": "execute_result"
    }
   ],
   "source": [
    "\"rock\" in album_set"
   ]
  },
  {
   "cell_type": "code",
   "execution_count": 71,
   "id": "2bec7684",
   "metadata": {},
   "outputs": [
    {
     "data": {
      "text/plain": [
       "{1, 2, 6, 8, 9, 'rock'}"
      ]
     },
     "execution_count": 71,
     "metadata": {},
     "output_type": "execute_result"
    }
   ],
   "source": [
    "album_set2 ={1,2,\"rock\",8,9,6}\n",
    "album_set2"
   ]
  },
  {
   "cell_type": "markdown",
   "id": "c9cd2584",
   "metadata": {},
   "source": [
    "- intersection of set (only common elements remains)"
   ]
  },
  {
   "cell_type": "code",
   "execution_count": 72,
   "id": "57c58701",
   "metadata": {},
   "outputs": [
    {
     "data": {
      "text/plain": [
       "{1, 2, 'rock'}"
      ]
     },
     "execution_count": 72,
     "metadata": {},
     "output_type": "execute_result"
    }
   ],
   "source": [
    "album_set3 = album_set&album_set2\n",
    "album_set3"
   ]
  }
 ],
 "metadata": {
  "kernelspec": {
   "display_name": "Python 3.8.10 32-bit",
   "language": "python",
   "name": "python3"
  },
  "language_info": {
   "codemirror_mode": {
    "name": "ipython",
    "version": 3
   },
   "file_extension": ".py",
   "mimetype": "text/x-python",
   "name": "python",
   "nbconvert_exporter": "python",
   "pygments_lexer": "ipython3",
   "version": "3.11.4"
  },
  "vscode": {
   "interpreter": {
    "hash": "410f81d6483aea4cd368aa90266ce3cebfba76d30c32022bf576722df5f1ff44"
   }
  }
 },
 "nbformat": 4,
 "nbformat_minor": 5
}
