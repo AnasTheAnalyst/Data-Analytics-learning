{
 "cells": [
  {
   "cell_type": "markdown",
   "id": "5993f293",
   "metadata": {},
   "source": [
    "# \"how to use jupiter notebook\"\n",
    "\n",
    "## 01_My_first_program"
   ]
  },
  {
   "cell_type": "markdown",
   "id": "812be273",
   "metadata": {},
   "source": [
    "#### import keypoints for jupiter_book\n"
   ]
  },
  {
   "cell_type": "markdown",
   "id": "d17f638e",
   "metadata": {},
   "source": [
    "01_tap M for markdown\n",
    "02_tap y for codes\n",
    "03_tap ctrl+enter for run program\n",
    "04_tap shift and down button to select all\n",
    "05_tap esc and b to make new down file and a to make upper file"
   ]
  },
  {
   "cell_type": "code",
   "execution_count": 1,
   "id": "dc4dc283",
   "metadata": {},
   "outputs": [
    {
     "name": "stdout",
     "output_type": "stream",
     "text": [
      "how are you?\n",
      "wher are you doing\n",
      "2+8\n"
     ]
    }
   ],
   "source": [
    "print(\"how are you?\") \n",
    "print(\"wher are you doing\") \n",
    "print(\"2+8\")"
   ]
  },
  {
   "cell_type": "markdown",
   "id": "1b1847cb",
   "metadata": {},
   "source": [
    " ### 02_operators"
   ]
  },
  {
   "cell_type": "code",
   "execution_count": 2,
   "id": "deb4524d",
   "metadata": {},
   "outputs": [
    {
     "name": "stdout",
     "output_type": "stream",
     "text": [
      "5\n",
      "-1\n",
      "3.0\n",
      "6\n",
      "3\n",
      "10.666666666666668\n"
     ]
    }
   ],
   "source": [
    "print(2+3)\n",
    "print(2-3)\n",
    "print(6/2)\n",
    "print(2*3)\n",
    "print(6//2)\n",
    "\n",
    "print((2*3)+2/3+5-1)\n"
   ]
  },
  {
   "cell_type": "markdown",
   "id": "85e55543",
   "metadata": {},
   "source": [
    "\"enter ctrl+shift+P to enter Interactive\"\n",
    "\"use paranthesis for complication M D & A S\"\n",
    "\"IT RESOLVE LEFT TO RIGHT\""
   ]
  },
  {
   "cell_type": "markdown",
   "id": "442f1636",
   "metadata": {},
   "source": [
    "## 03_strings"
   ]
  },
  {
   "cell_type": "code",
   "execution_count": 3,
   "id": "30fef212",
   "metadata": {},
   "outputs": [
    {
     "name": "stdout",
     "output_type": "stream",
     "text": [
      "hello\n",
      "hello\n",
      "hello  \n",
      "  hello\n",
      "hello \n",
      "HELLO TO THE FUTURE\n"
     ]
    }
   ],
   "source": [
    "print('hello')\n",
    "print(\"hello\")\n",
    "print(\"hello  \")\n",
    "print(\"  hello\")\n",
    "print('''hello ''')\n",
    "print(\"HELLO TO THE FUTURE\")"
   ]
  },
  {
   "cell_type": "markdown",
   "id": "c9139ac1",
   "metadata": {},
   "source": [
    "## 04_comment"
   ]
  },
  {
   "cell_type": "code",
   "execution_count": 3,
   "id": "15c1eabf",
   "metadata": {},
   "outputs": [
    {
     "name": "stdout",
     "output_type": "stream",
     "text": [
      "how are you?\n",
      "wher are you doing\n",
      "10\n"
     ]
    }
   ],
   "source": [
    "print(\"how are you?\") \n",
    "print(\"wher are you doing\") \n",
    "print(2+8)  \n"
   ]
  },
  {
   "cell_type": "markdown",
   "id": "2e039d4a",
   "metadata": {},
   "source": [
    " [use # or use (ctrl+/) for comment out]"
   ]
  },
  {
   "cell_type": "markdown",
   "id": "b8af849a",
   "metadata": {},
   "source": [
    "## 05_variables"
   ]
  },
  {
   "cell_type": "code",
   "execution_count": 1,
   "id": "9b8d2ff2",
   "metadata": {},
   "outputs": [
    {
     "name": "stdout",
     "output_type": "stream",
     "text": [
      "16\n",
      "<class 'int'>\n",
      "<class 'str'>\n"
     ]
    }
   ],
   "source": [
    "x=6 \n",
    "\n",
    "y=\"we are learning with youtube\"\n",
    "\n",
    "x= x+10  \n",
    "print(x)\n",
    "print(type(x)) \n",
    "\n",
    "print(type(y)) \n"
   ]
  },
  {
   "cell_type": "code",
   "execution_count": 5,
   "id": "75dcaf63",
   "metadata": {},
   "outputs": [],
   "source": [
    "### Rules to assign a variable\n",
    "#1-variables should contain a number,letters and underscores.\n",
    "#2- donot start with numbers\n",
    "#3-spaces are not allowed\n",
    "#4-donot use keywards used in python(test,media,)\n",
    "#5-short and descriptive\n",
    "#6-case sensitivity(lowercase,upper case ,lower case should be used) "
   ]
  },
  {
   "cell_type": "markdown",
   "id": "7d15753e",
   "metadata": {},
   "source": [
    "## Escape Sequences"
   ]
  },
  {
   "cell_type": "code",
   "execution_count": 2,
   "id": "b89c3240",
   "metadata": {},
   "outputs": [
    {
     "name": "stdout",
     "output_type": "stream",
     "text": [
      "Michal jackson \n",
      " is the best\n"
     ]
    }
   ],
   "source": [
    "#  \\ are meant to proceed escape sequences\n",
    "# escape seqeunce are strings that are difficult to input\n",
    "\n",
    "print(\"Michal jackson \\n is the best\")\n",
    "\n",
    "# \\n means a new line\n",
    "# \\t represents a tab\n",
    "#  write \\\\ to write single \\ or write r in front of string to write slash "
   ]
  },
  {
   "cell_type": "code",
   "execution_count": null,
   "id": "e2b97928",
   "metadata": {},
   "outputs": [],
   "source": []
  }
 ],
 "metadata": {
  "kernelspec": {
   "display_name": "Python 3.8.10 32-bit",
   "language": "python",
   "name": "python3"
  },
  "language_info": {
   "codemirror_mode": {
    "name": "ipython",
    "version": 3
   },
   "file_extension": ".py",
   "mimetype": "text/x-python",
   "name": "python",
   "nbconvert_exporter": "python",
   "pygments_lexer": "ipython3",
   "version": "3.11.4"
  },
  "vscode": {
   "interpreter": {
    "hash": "410f81d6483aea4cd368aa90266ce3cebfba76d30c32022bf576722df5f1ff44"
   }
  }
 },
 "nbformat": 4,
 "nbformat_minor": 5
}
