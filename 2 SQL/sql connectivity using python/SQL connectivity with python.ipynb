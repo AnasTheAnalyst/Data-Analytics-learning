{
 "cells": [
  {
   "cell_type": "code",
   "execution_count": null,
   "id": "fb5c5e19",
   "metadata": {},
   "outputs": [],
   "source": [
    "conda create -n py310 python=3.10\n"
   ]
  },
  {
   "cell_type": "code",
   "execution_count": 1,
   "id": "42fd42da",
   "metadata": {},
   "outputs": [
    {
     "name": "stdout",
     "output_type": "stream",
     "text": [
      "Requirement already satisfied: mysql-connector-python in c:\\users\\e-time\\anaconda3\\lib\\site-packages (8.0.30)\n",
      "Requirement already satisfied: protobuf<=3.20.1,>=3.11.0 in c:\\users\\e-time\\anaconda3\\lib\\site-packages (from mysql-connector-python) (3.19.1)\n"
     ]
    }
   ],
   "source": [
    "# !pip install ipython-sql\n",
    "#!pip install mysql\n",
    "! pip install mysql-connector-python"
   ]
  },
  {
   "cell_type": "code",
   "execution_count": 2,
   "id": "b1d10361",
   "metadata": {},
   "outputs": [],
   "source": [
    "# import libraries\n",
    "\n",
    "import mysql.connector\n",
    "from mysql.connector import Error\n",
    "import pandas as pd"
   ]
  },
  {
   "cell_type": "code",
   "execution_count": 3,
   "id": "a8e547ef",
   "metadata": {},
   "outputs": [
    {
     "name": "stdout",
     "output_type": "stream",
     "text": [
      "My sql database connection successfull\n"
     ]
    }
   ],
   "source": [
    "# function that helps us create a server connection\n",
    "\n",
    "def create_server_connection(host_name,user_name, user_password):\n",
    "        connection = None\n",
    "        try:\n",
    "            connection = mysql.connector.connect(\n",
    "                host = host_name,\n",
    "                user = user_name,\n",
    "                passwd = user_password\n",
    "            )\n",
    "            print(\"My sql database connection successfull\")\n",
    "        except Error as err:\n",
    "                print(f\"Error:'{err}:'\")\n",
    "        return connection\n",
    "            \n",
    "# put our mysql password\n",
    "pw = \"3323125869\"\n",
    "\n",
    "# database name\n",
    "db = \"mysql_python\"\n",
    "connection = create_server_connection(\"localhost\",\"root\",pw)\n",
    "            "
   ]
  },
  {
   "cell_type": "code",
   "execution_count": 4,
   "id": "8228a8ac",
   "metadata": {
    "scrolled": true
   },
   "outputs": [],
   "source": [
    "# create mysql_python\n",
    "\n",
    "def create_database(connection, query):\n",
    "    cursor = connection.cursor()\n",
    "    try:\n",
    "        cursor.execute(query)\n",
    "        print(\"Database create successfully\")\n",
    "    except Error as err:\n",
    "        print(f\"Error:'{err}'\") "
   ]
  },
  {
   "cell_type": "code",
   "execution_count": 5,
   "id": "69869ea8",
   "metadata": {},
   "outputs": [
    {
     "name": "stdout",
     "output_type": "stream",
     "text": [
      "Error:'1007 (HY000): Can't create database 'mysql_python'; database exists'\n"
     ]
    }
   ],
   "source": [
    "create_database_query = \"Create database mysql_python\"\n",
    "create_database(connection,create_database_query)"
   ]
  },
  {
   "cell_type": "code",
   "execution_count": 6,
   "id": "08d81b2f",
   "metadata": {},
   "outputs": [],
   "source": [
    "# connect to database of sql\n",
    "\n",
    "def create_db_connection(host_name,user_name,user_password,db_name):\n",
    "    connection = None\n",
    "    try:\n",
    "        connection = mysql.connector.connect(\n",
    "        host = host_name,\n",
    "        user =user_name,\n",
    "        passwd =user_password,\n",
    "        database = db_name)\n",
    "        print(\"MySQL Databse connection successfull\")\n",
    "    except Error as err:\n",
    "        print(f\"Error:'{err}'\")\n",
    "        return connection\n"
   ]
  },
  {
   "cell_type": "code",
   "execution_count": 7,
   "id": "5287aa7b",
   "metadata": {},
   "outputs": [],
   "source": [
    "# Execute sql series\n",
    "\n",
    "def execute_query(connection, query):\n",
    "    cursor =connection.cursor()\n",
    "    try:\n",
    "        cursor.execute(query)\n",
    "        connection.commit()\n",
    "        print(\"Query was successfull\")\n",
    "    except Error as err:\n",
    "        print(f\"Error:'{err}'\")"
   ]
  },
  {
   "cell_type": "code",
   "execution_count": 8,
   "id": "9225cb47",
   "metadata": {},
   "outputs": [
    {
     "name": "stdout",
     "output_type": "stream",
     "text": [
      "MySQL Databse connection successfull\n"
     ]
    },
    {
     "ename": "AttributeError",
     "evalue": "'NoneType' object has no attribute 'cursor'",
     "output_type": "error",
     "traceback": [
      "\u001b[1;31m---------------------------------------------------------------------------\u001b[0m",
      "\u001b[1;31mAttributeError\u001b[0m                            Traceback (most recent call last)",
      "Input \u001b[1;32mIn [8]\u001b[0m, in \u001b[0;36m<cell line: 19>\u001b[1;34m()\u001b[0m\n\u001b[0;32m     15\u001b[0m \u001b[38;5;66;03m# connect to the database\u001b[39;00m\n\u001b[0;32m     17\u001b[0m connection \u001b[38;5;241m=\u001b[39m create_db_connection(\u001b[38;5;124m\"\u001b[39m\u001b[38;5;124mlocalhost\u001b[39m\u001b[38;5;124m\"\u001b[39m,\u001b[38;5;124m\"\u001b[39m\u001b[38;5;124mroot\u001b[39m\u001b[38;5;124m\"\u001b[39m,pw,db)\n\u001b[1;32m---> 19\u001b[0m \u001b[43mexecute_query\u001b[49m\u001b[43m \u001b[49m\u001b[43m(\u001b[49m\u001b[43mconnection\u001b[49m\u001b[43m,\u001b[49m\u001b[43m \u001b[49m\u001b[43mcreate_orders_table\u001b[49m\u001b[43m)\u001b[49m\n",
      "Input \u001b[1;32mIn [7]\u001b[0m, in \u001b[0;36mexecute_query\u001b[1;34m(connection, query)\u001b[0m\n\u001b[0;32m      3\u001b[0m \u001b[38;5;28;01mdef\u001b[39;00m \u001b[38;5;21mexecute_query\u001b[39m(connection, query):\n\u001b[1;32m----> 4\u001b[0m     cursor \u001b[38;5;241m=\u001b[39m\u001b[43mconnection\u001b[49m\u001b[38;5;241;43m.\u001b[39;49m\u001b[43mcursor\u001b[49m()\n\u001b[0;32m      5\u001b[0m     \u001b[38;5;28;01mtry\u001b[39;00m:\n\u001b[0;32m      6\u001b[0m         cursor\u001b[38;5;241m.\u001b[39mexecute(query)\n",
      "\u001b[1;31mAttributeError\u001b[0m: 'NoneType' object has no attribute 'cursor'"
     ]
    }
   ],
   "source": [
    "# create a table in database\n",
    "\n",
    "create_orders_table = \"\"\"\n",
    "\n",
    "create table orders(\n",
    "order_ID INT PRIMARY KEY,\n",
    "customer_name varchar(30) not null,\n",
    "product_name varchar(20) not null,\n",
    "date_ordered date,\n",
    "quantity int,\n",
    "unit_price float,\n",
    "phone_number varchar(20));\n",
    "\"\"\"\n",
    "\n",
    "# connect to the database\n",
    "\n",
    "connection = create_db_connection(\"localhost\",\"root\",pw,db)\n",
    "\n",
    "execute_query (connection, create_orders_table)"
   ]
  },
  {
   "cell_type": "code",
   "execution_count": null,
   "id": "60571d70",
   "metadata": {},
   "outputs": [],
   "source": [
    "\n"
   ]
  },
  {
   "cell_type": "code",
   "execution_count": null,
   "id": "a8409e98",
   "metadata": {},
   "outputs": [],
   "source": []
  }
 ],
 "metadata": {
  "kernelspec": {
   "display_name": "Python 3 (ipykernel)",
   "language": "python",
   "name": "python3"
  },
  "language_info": {
   "codemirror_mode": {
    "name": "ipython",
    "version": 3
   },
   "file_extension": ".py",
   "mimetype": "text/x-python",
   "name": "python",
   "nbconvert_exporter": "python",
   "pygments_lexer": "ipython3",
   "version": "3.9.13"
  }
 },
 "nbformat": 4,
 "nbformat_minor": 5
}
